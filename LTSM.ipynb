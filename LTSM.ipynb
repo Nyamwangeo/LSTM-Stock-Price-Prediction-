{
  "nbformat": 4,
  "nbformat_minor": 0,
  "metadata": {
    "colab": {
      "provenance": []
    },
    "kernelspec": {
      "name": "python3",
      "display_name": "Python 3"
    },
    "language_info": {
      "name": "python"
    }
  },
  "cells": [
    {
      "cell_type": "code",
      "execution_count": null,
      "metadata": {
        "id": "KH0glNe8HXju"
      },
      "outputs": [],
      "source": [
        "!pip install tensorflow -qqq\n",
        "!pip install keras -qqq\n",
        "!pip install yfinance -qqq"
      ]
    },
    {
      "cell_type": "code",
      "source": [
        "import tensorflow as tf\n",
        "import keras\n",
        "import yfinance as yf\n",
        "import numpy as np\n",
        "import pandas as pd\n",
        "import matplotlib.pyplot as plt"
      ],
      "metadata": {
        "id": "CVS1XhVMHrTX"
      },
      "execution_count": null,
      "outputs": []
    },
    {
      "cell_type": "code",
      "source": [
        "# Check TensorFlow version\n",
        "print(\"TensorFlow Version: \", tf.__version__)"
      ],
      "metadata": {
        "colab": {
          "base_uri": "https://localhost:8080/"
        },
        "id": "HQhgy5E8H2PC",
        "outputId": "d9208e6d-12e4-4a2a-c35c-9c0b2d60ded4"
      },
      "execution_count": null,
      "outputs": [
        {
          "output_type": "stream",
          "name": "stdout",
          "text": [
            "TensorFlow Version:  2.15.0\n"
          ]
        }
      ]
    },
    {
      "cell_type": "code",
      "source": [
        "# Fetch AAPL data\n",
        "aapl_data = yf.download('AAPL', start='2020-01-01', end= '2024-5-23')\n",
        "\n",
        "# Display the first few rows of the dataframe\n",
        "aapl_data.tail()"
      ],
      "metadata": {
        "colab": {
          "base_uri": "https://localhost:8080/",
          "height": 255
        },
        "id": "7hiQGkLKIcDO",
        "outputId": "5a4db49f-210c-4fd4-ac1d-b1872f156e71"
      },
      "execution_count": null,
      "outputs": [
        {
          "output_type": "stream",
          "name": "stderr",
          "text": [
            "\r[*********************100%%**********************]  1 of 1 completed\n"
          ]
        },
        {
          "output_type": "execute_result",
          "data": {
            "text/plain": [
              "                  Open        High         Low       Close   Adj Close  \\\n",
              "Date                                                                     \n",
              "2024-05-16  190.470001  191.100006  189.660004  189.839996  189.839996   \n",
              "2024-05-17  189.509995  190.809998  189.179993  189.869995  189.869995   \n",
              "2024-05-20  189.330002  191.919998  189.009995  191.039993  191.039993   \n",
              "2024-05-21  191.089996  192.729996  190.919998  192.350006  192.350006   \n",
              "2024-05-22  192.270004  192.820007  190.270004  190.899994  190.899994   \n",
              "\n",
              "              Volume  \n",
              "Date                  \n",
              "2024-05-16  52845200  \n",
              "2024-05-17  41282900  \n",
              "2024-05-20  44361300  \n",
              "2024-05-21  42309400  \n",
              "2024-05-22  34648500  "
            ],
            "text/html": [
              "\n",
              "  <div id=\"df-d3d98e07-77a3-4a41-80c3-48a2417cf88c\" class=\"colab-df-container\">\n",
              "    <div>\n",
              "<style scoped>\n",
              "    .dataframe tbody tr th:only-of-type {\n",
              "        vertical-align: middle;\n",
              "    }\n",
              "\n",
              "    .dataframe tbody tr th {\n",
              "        vertical-align: top;\n",
              "    }\n",
              "\n",
              "    .dataframe thead th {\n",
              "        text-align: right;\n",
              "    }\n",
              "</style>\n",
              "<table border=\"1\" class=\"dataframe\">\n",
              "  <thead>\n",
              "    <tr style=\"text-align: right;\">\n",
              "      <th></th>\n",
              "      <th>Open</th>\n",
              "      <th>High</th>\n",
              "      <th>Low</th>\n",
              "      <th>Close</th>\n",
              "      <th>Adj Close</th>\n",
              "      <th>Volume</th>\n",
              "    </tr>\n",
              "    <tr>\n",
              "      <th>Date</th>\n",
              "      <th></th>\n",
              "      <th></th>\n",
              "      <th></th>\n",
              "      <th></th>\n",
              "      <th></th>\n",
              "      <th></th>\n",
              "    </tr>\n",
              "  </thead>\n",
              "  <tbody>\n",
              "    <tr>\n",
              "      <th>2024-05-16</th>\n",
              "      <td>190.470001</td>\n",
              "      <td>191.100006</td>\n",
              "      <td>189.660004</td>\n",
              "      <td>189.839996</td>\n",
              "      <td>189.839996</td>\n",
              "      <td>52845200</td>\n",
              "    </tr>\n",
              "    <tr>\n",
              "      <th>2024-05-17</th>\n",
              "      <td>189.509995</td>\n",
              "      <td>190.809998</td>\n",
              "      <td>189.179993</td>\n",
              "      <td>189.869995</td>\n",
              "      <td>189.869995</td>\n",
              "      <td>41282900</td>\n",
              "    </tr>\n",
              "    <tr>\n",
              "      <th>2024-05-20</th>\n",
              "      <td>189.330002</td>\n",
              "      <td>191.919998</td>\n",
              "      <td>189.009995</td>\n",
              "      <td>191.039993</td>\n",
              "      <td>191.039993</td>\n",
              "      <td>44361300</td>\n",
              "    </tr>\n",
              "    <tr>\n",
              "      <th>2024-05-21</th>\n",
              "      <td>191.089996</td>\n",
              "      <td>192.729996</td>\n",
              "      <td>190.919998</td>\n",
              "      <td>192.350006</td>\n",
              "      <td>192.350006</td>\n",
              "      <td>42309400</td>\n",
              "    </tr>\n",
              "    <tr>\n",
              "      <th>2024-05-22</th>\n",
              "      <td>192.270004</td>\n",
              "      <td>192.820007</td>\n",
              "      <td>190.270004</td>\n",
              "      <td>190.899994</td>\n",
              "      <td>190.899994</td>\n",
              "      <td>34648500</td>\n",
              "    </tr>\n",
              "  </tbody>\n",
              "</table>\n",
              "</div>\n",
              "    <div class=\"colab-df-buttons\">\n",
              "\n",
              "  <div class=\"colab-df-container\">\n",
              "    <button class=\"colab-df-convert\" onclick=\"convertToInteractive('df-d3d98e07-77a3-4a41-80c3-48a2417cf88c')\"\n",
              "            title=\"Convert this dataframe to an interactive table.\"\n",
              "            style=\"display:none;\">\n",
              "\n",
              "  <svg xmlns=\"http://www.w3.org/2000/svg\" height=\"24px\" viewBox=\"0 -960 960 960\">\n",
              "    <path d=\"M120-120v-720h720v720H120Zm60-500h600v-160H180v160Zm220 220h160v-160H400v160Zm0 220h160v-160H400v160ZM180-400h160v-160H180v160Zm440 0h160v-160H620v160ZM180-180h160v-160H180v160Zm440 0h160v-160H620v160Z\"/>\n",
              "  </svg>\n",
              "    </button>\n",
              "\n",
              "  <style>\n",
              "    .colab-df-container {\n",
              "      display:flex;\n",
              "      gap: 12px;\n",
              "    }\n",
              "\n",
              "    .colab-df-convert {\n",
              "      background-color: #E8F0FE;\n",
              "      border: none;\n",
              "      border-radius: 50%;\n",
              "      cursor: pointer;\n",
              "      display: none;\n",
              "      fill: #1967D2;\n",
              "      height: 32px;\n",
              "      padding: 0 0 0 0;\n",
              "      width: 32px;\n",
              "    }\n",
              "\n",
              "    .colab-df-convert:hover {\n",
              "      background-color: #E2EBFA;\n",
              "      box-shadow: 0px 1px 2px rgba(60, 64, 67, 0.3), 0px 1px 3px 1px rgba(60, 64, 67, 0.15);\n",
              "      fill: #174EA6;\n",
              "    }\n",
              "\n",
              "    .colab-df-buttons div {\n",
              "      margin-bottom: 4px;\n",
              "    }\n",
              "\n",
              "    [theme=dark] .colab-df-convert {\n",
              "      background-color: #3B4455;\n",
              "      fill: #D2E3FC;\n",
              "    }\n",
              "\n",
              "    [theme=dark] .colab-df-convert:hover {\n",
              "      background-color: #434B5C;\n",
              "      box-shadow: 0px 1px 3px 1px rgba(0, 0, 0, 0.15);\n",
              "      filter: drop-shadow(0px 1px 2px rgba(0, 0, 0, 0.3));\n",
              "      fill: #FFFFFF;\n",
              "    }\n",
              "  </style>\n",
              "\n",
              "    <script>\n",
              "      const buttonEl =\n",
              "        document.querySelector('#df-d3d98e07-77a3-4a41-80c3-48a2417cf88c button.colab-df-convert');\n",
              "      buttonEl.style.display =\n",
              "        google.colab.kernel.accessAllowed ? 'block' : 'none';\n",
              "\n",
              "      async function convertToInteractive(key) {\n",
              "        const element = document.querySelector('#df-d3d98e07-77a3-4a41-80c3-48a2417cf88c');\n",
              "        const dataTable =\n",
              "          await google.colab.kernel.invokeFunction('convertToInteractive',\n",
              "                                                    [key], {});\n",
              "        if (!dataTable) return;\n",
              "\n",
              "        const docLinkHtml = 'Like what you see? Visit the ' +\n",
              "          '<a target=\"_blank\" href=https://colab.research.google.com/notebooks/data_table.ipynb>data table notebook</a>'\n",
              "          + ' to learn more about interactive tables.';\n",
              "        element.innerHTML = '';\n",
              "        dataTable['output_type'] = 'display_data';\n",
              "        await google.colab.output.renderOutput(dataTable, element);\n",
              "        const docLink = document.createElement('div');\n",
              "        docLink.innerHTML = docLinkHtml;\n",
              "        element.appendChild(docLink);\n",
              "      }\n",
              "    </script>\n",
              "  </div>\n",
              "\n",
              "\n",
              "<div id=\"df-6fc67616-523a-48ec-b056-4e28ea2b579d\">\n",
              "  <button class=\"colab-df-quickchart\" onclick=\"quickchart('df-6fc67616-523a-48ec-b056-4e28ea2b579d')\"\n",
              "            title=\"Suggest charts\"\n",
              "            style=\"display:none;\">\n",
              "\n",
              "<svg xmlns=\"http://www.w3.org/2000/svg\" height=\"24px\"viewBox=\"0 0 24 24\"\n",
              "     width=\"24px\">\n",
              "    <g>\n",
              "        <path d=\"M19 3H5c-1.1 0-2 .9-2 2v14c0 1.1.9 2 2 2h14c1.1 0 2-.9 2-2V5c0-1.1-.9-2-2-2zM9 17H7v-7h2v7zm4 0h-2V7h2v10zm4 0h-2v-4h2v4z\"/>\n",
              "    </g>\n",
              "</svg>\n",
              "  </button>\n",
              "\n",
              "<style>\n",
              "  .colab-df-quickchart {\n",
              "      --bg-color: #E8F0FE;\n",
              "      --fill-color: #1967D2;\n",
              "      --hover-bg-color: #E2EBFA;\n",
              "      --hover-fill-color: #174EA6;\n",
              "      --disabled-fill-color: #AAA;\n",
              "      --disabled-bg-color: #DDD;\n",
              "  }\n",
              "\n",
              "  [theme=dark] .colab-df-quickchart {\n",
              "      --bg-color: #3B4455;\n",
              "      --fill-color: #D2E3FC;\n",
              "      --hover-bg-color: #434B5C;\n",
              "      --hover-fill-color: #FFFFFF;\n",
              "      --disabled-bg-color: #3B4455;\n",
              "      --disabled-fill-color: #666;\n",
              "  }\n",
              "\n",
              "  .colab-df-quickchart {\n",
              "    background-color: var(--bg-color);\n",
              "    border: none;\n",
              "    border-radius: 50%;\n",
              "    cursor: pointer;\n",
              "    display: none;\n",
              "    fill: var(--fill-color);\n",
              "    height: 32px;\n",
              "    padding: 0;\n",
              "    width: 32px;\n",
              "  }\n",
              "\n",
              "  .colab-df-quickchart:hover {\n",
              "    background-color: var(--hover-bg-color);\n",
              "    box-shadow: 0 1px 2px rgba(60, 64, 67, 0.3), 0 1px 3px 1px rgba(60, 64, 67, 0.15);\n",
              "    fill: var(--button-hover-fill-color);\n",
              "  }\n",
              "\n",
              "  .colab-df-quickchart-complete:disabled,\n",
              "  .colab-df-quickchart-complete:disabled:hover {\n",
              "    background-color: var(--disabled-bg-color);\n",
              "    fill: var(--disabled-fill-color);\n",
              "    box-shadow: none;\n",
              "  }\n",
              "\n",
              "  .colab-df-spinner {\n",
              "    border: 2px solid var(--fill-color);\n",
              "    border-color: transparent;\n",
              "    border-bottom-color: var(--fill-color);\n",
              "    animation:\n",
              "      spin 1s steps(1) infinite;\n",
              "  }\n",
              "\n",
              "  @keyframes spin {\n",
              "    0% {\n",
              "      border-color: transparent;\n",
              "      border-bottom-color: var(--fill-color);\n",
              "      border-left-color: var(--fill-color);\n",
              "    }\n",
              "    20% {\n",
              "      border-color: transparent;\n",
              "      border-left-color: var(--fill-color);\n",
              "      border-top-color: var(--fill-color);\n",
              "    }\n",
              "    30% {\n",
              "      border-color: transparent;\n",
              "      border-left-color: var(--fill-color);\n",
              "      border-top-color: var(--fill-color);\n",
              "      border-right-color: var(--fill-color);\n",
              "    }\n",
              "    40% {\n",
              "      border-color: transparent;\n",
              "      border-right-color: var(--fill-color);\n",
              "      border-top-color: var(--fill-color);\n",
              "    }\n",
              "    60% {\n",
              "      border-color: transparent;\n",
              "      border-right-color: var(--fill-color);\n",
              "    }\n",
              "    80% {\n",
              "      border-color: transparent;\n",
              "      border-right-color: var(--fill-color);\n",
              "      border-bottom-color: var(--fill-color);\n",
              "    }\n",
              "    90% {\n",
              "      border-color: transparent;\n",
              "      border-bottom-color: var(--fill-color);\n",
              "    }\n",
              "  }\n",
              "</style>\n",
              "\n",
              "  <script>\n",
              "    async function quickchart(key) {\n",
              "      const quickchartButtonEl =\n",
              "        document.querySelector('#' + key + ' button');\n",
              "      quickchartButtonEl.disabled = true;  // To prevent multiple clicks.\n",
              "      quickchartButtonEl.classList.add('colab-df-spinner');\n",
              "      try {\n",
              "        const charts = await google.colab.kernel.invokeFunction(\n",
              "            'suggestCharts', [key], {});\n",
              "      } catch (error) {\n",
              "        console.error('Error during call to suggestCharts:', error);\n",
              "      }\n",
              "      quickchartButtonEl.classList.remove('colab-df-spinner');\n",
              "      quickchartButtonEl.classList.add('colab-df-quickchart-complete');\n",
              "    }\n",
              "    (() => {\n",
              "      let quickchartButtonEl =\n",
              "        document.querySelector('#df-6fc67616-523a-48ec-b056-4e28ea2b579d button');\n",
              "      quickchartButtonEl.style.display =\n",
              "        google.colab.kernel.accessAllowed ? 'block' : 'none';\n",
              "    })();\n",
              "  </script>\n",
              "</div>\n",
              "\n",
              "    </div>\n",
              "  </div>\n"
            ],
            "application/vnd.google.colaboratory.intrinsic+json": {
              "type": "dataframe",
              "summary": "{\n  \"name\": \"aapl_data\",\n  \"rows\": 5,\n  \"fields\": [\n    {\n      \"column\": \"Date\",\n      \"properties\": {\n        \"dtype\": \"date\",\n        \"min\": \"2024-05-16 00:00:00\",\n        \"max\": \"2024-05-22 00:00:00\",\n        \"num_unique_values\": 5,\n        \"samples\": [\n          \"2024-05-17 00:00:00\",\n          \"2024-05-22 00:00:00\",\n          \"2024-05-20 00:00:00\"\n        ],\n        \"semantic_type\": \"\",\n        \"description\": \"\"\n      }\n    },\n    {\n      \"column\": \"Open\",\n      \"properties\": {\n        \"dtype\": \"number\",\n        \"std\": 1.2067660757531962,\n        \"min\": 189.3300018310547,\n        \"max\": 192.27000427246094,\n        \"num_unique_values\": 5,\n        \"samples\": [\n          189.50999450683594,\n          192.27000427246094,\n          189.3300018310547\n        ],\n        \"semantic_type\": \"\",\n        \"description\": \"\"\n      }\n    },\n    {\n      \"column\": \"High\",\n      \"properties\": {\n        \"dtype\": \"number\",\n        \"std\": 0.9166408923570447,\n        \"min\": 190.80999755859375,\n        \"max\": 192.82000732421875,\n        \"num_unique_values\": 5,\n        \"samples\": [\n          190.80999755859375,\n          192.82000732421875,\n          191.9199981689453\n        ],\n        \"semantic_type\": \"\",\n        \"description\": \"\"\n      }\n    },\n    {\n      \"column\": \"Low\",\n      \"properties\": {\n        \"dtype\": \"number\",\n        \"std\": 0.7910589039259848,\n        \"min\": 189.00999450683594,\n        \"max\": 190.9199981689453,\n        \"num_unique_values\": 5,\n        \"samples\": [\n          189.17999267578125,\n          190.27000427246094,\n          189.00999450683594\n        ],\n        \"semantic_type\": \"\",\n        \"description\": \"\"\n      }\n    },\n    {\n      \"column\": \"Close\",\n      \"properties\": {\n        \"dtype\": \"number\",\n        \"std\": 1.0315801702885943,\n        \"min\": 189.83999633789062,\n        \"max\": 192.35000610351562,\n        \"num_unique_values\": 5,\n        \"samples\": [\n          189.8699951171875,\n          190.89999389648438,\n          191.0399932861328\n        ],\n        \"semantic_type\": \"\",\n        \"description\": \"\"\n      }\n    },\n    {\n      \"column\": \"Adj Close\",\n      \"properties\": {\n        \"dtype\": \"number\",\n        \"std\": 1.0315801702885943,\n        \"min\": 189.83999633789062,\n        \"max\": 192.35000610351562,\n        \"num_unique_values\": 5,\n        \"samples\": [\n          189.8699951171875,\n          190.89999389648438,\n          191.0399932861328\n        ],\n        \"semantic_type\": \"\",\n        \"description\": \"\"\n      }\n    },\n    {\n      \"column\": \"Volume\",\n      \"properties\": {\n        \"dtype\": \"number\",\n        \"std\": 6555798,\n        \"min\": 34648500,\n        \"max\": 52845200,\n        \"num_unique_values\": 5,\n        \"samples\": [\n          41282900,\n          34648500,\n          44361300\n        ],\n        \"semantic_type\": \"\",\n        \"description\": \"\"\n      }\n    }\n  ]\n}"
            }
          },
          "metadata": {},
          "execution_count": 8
        }
      ]
    },
    {
      "cell_type": "code",
      "source": [
        "aapl_data.shape"
      ],
      "metadata": {
        "colab": {
          "base_uri": "https://localhost:8080/"
        },
        "id": "AiN73an9Jior",
        "outputId": "7d4e877d-70fa-4ad2-cf35-3d716b3a51a9"
      },
      "execution_count": null,
      "outputs": [
        {
          "output_type": "execute_result",
          "data": {
            "text/plain": [
              "(1105, 6)"
            ]
          },
          "metadata": {},
          "execution_count": 9
        }
      ]
    },
    {
      "cell_type": "code",
      "source": [
        "# Checking for missing values\n",
        "aapl_data.isnull().sum()\n",
        "\n",
        "# Filling missing values, if any\n",
        "# aapl_data.fillna(method='ffill', inplace=True)"
      ],
      "metadata": {
        "colab": {
          "base_uri": "https://localhost:8080/"
        },
        "id": "Vj6FyZG4J9iF",
        "outputId": "359171ac-35be-4542-a013-f00bf3a04359"
      },
      "execution_count": null,
      "outputs": [
        {
          "output_type": "execute_result",
          "data": {
            "text/plain": [
              "Open         0\n",
              "High         0\n",
              "Low          0\n",
              "Close        0\n",
              "Adj Close    0\n",
              "Volume       0\n",
              "dtype: int64"
            ]
          },
          "metadata": {},
          "execution_count": 11
        }
      ]
    },
    {
      "cell_type": "code",
      "source": [
        "from sklearn.preprocessing import MinMaxScaler\n",
        "\n",
        "scaler = MinMaxScaler(feature_range=(0,1))\n",
        "aapl_data_scaled = scaler.fit_transform(aapl_data['Close'].values.reshape(-1,1))"
      ],
      "metadata": {
        "id": "0V3n7nNQKHyT"
      },
      "execution_count": null,
      "outputs": []
    },
    {
      "cell_type": "code",
      "source": [
        "X = []\n",
        "y = []\n",
        "\n",
        "for i in range(60, len(aapl_data_scaled)):\n",
        "    X.append(aapl_data_scaled[i-60:i, 0])\n",
        "    y.append(aapl_data_scaled[i, 0])"
      ],
      "metadata": {
        "id": "rb8R8jRgKR9H"
      },
      "execution_count": null,
      "outputs": []
    },
    {
      "cell_type": "code",
      "source": [
        "train_size = int(len(X) * 0.8)\n",
        "test_size = len(X) - train_size\n",
        "\n",
        "X_train, X_test = X[:train_size], X[train_size:]\n",
        "y_train, y_test = y[:train_size], y[train_size:]"
      ],
      "metadata": {
        "id": "2SknQ7H5KnEh"
      },
      "execution_count": null,
      "outputs": []
    },
    {
      "cell_type": "code",
      "source": [
        "X_train, y_train = np.array(X_train), np.array(y_train)\n",
        "X_train = np.reshape(X_train, (X_train.shape[0], X_train.shape[1], 1))"
      ],
      "metadata": {
        "id": "q1eKA59HKwk8"
      },
      "execution_count": null,
      "outputs": []
    },
    {
      "cell_type": "code",
      "source": [
        "from keras.models import Sequential\n",
        "from keras.layers import LSTM, Dense, Dropout\n",
        "\n",
        "model = Sequential()\n",
        "\n",
        "# Adding LSTM layers\n",
        "model.add(LSTM(units=50, return_sequences=True, input_shape=(X_train.shape[1], 1)))\n",
        "model.add(LSTM(units=50, return_sequences=True))\n",
        "model.add(LSTM(units=50, return_sequences=False))  # Only the last time step\n",
        "\n",
        "# Adding a Dense layer to match the output shape with y_train\n",
        "model.add(Dense(1))\n",
        "\n",
        "# Compiling the model\n",
        "model.compile(optimizer='adam', loss='mean_squared_error')\n",
        "\n",
        "# Training the model\n",
        "history = model.fit(X_train, y_train, epochs=100, batch_size=25, validation_split=0.2)"
      ],
      "metadata": {
        "colab": {
          "base_uri": "https://localhost:8080/"
        },
        "id": "Pn79NoN-LJ4K",
        "outputId": "ea2d4a88-eaa1-4294-f46c-31c870bf5b88"
      },
      "execution_count": null,
      "outputs": [
        {
          "output_type": "stream",
          "name": "stdout",
          "text": [
            "Epoch 1/100\n",
            "27/27 [==============================] - 11s 129ms/step - loss: 0.0407 - val_loss: 0.0113\n",
            "Epoch 2/100\n",
            "27/27 [==============================] - 3s 106ms/step - loss: 0.0042 - val_loss: 0.0040\n",
            "Epoch 3/100\n",
            "27/27 [==============================] - 3s 112ms/step - loss: 0.0029 - val_loss: 0.0042\n",
            "Epoch 4/100\n",
            "27/27 [==============================] - 3s 130ms/step - loss: 0.0026 - val_loss: 0.0033\n",
            "Epoch 5/100\n",
            "27/27 [==============================] - 2s 83ms/step - loss: 0.0025 - val_loss: 0.0031\n",
            "Epoch 6/100\n",
            "27/27 [==============================] - 2s 80ms/step - loss: 0.0026 - val_loss: 0.0030\n",
            "Epoch 7/100\n",
            "27/27 [==============================] - 2s 80ms/step - loss: 0.0023 - val_loss: 0.0023\n",
            "Epoch 8/100\n",
            "27/27 [==============================] - 2s 81ms/step - loss: 0.0023 - val_loss: 0.0019\n",
            "Epoch 9/100\n",
            "27/27 [==============================] - 3s 96ms/step - loss: 0.0024 - val_loss: 0.0018\n",
            "Epoch 10/100\n",
            "27/27 [==============================] - 3s 118ms/step - loss: 0.0021 - val_loss: 0.0027\n",
            "Epoch 11/100\n",
            "27/27 [==============================] - 2s 79ms/step - loss: 0.0019 - val_loss: 0.0024\n",
            "Epoch 12/100\n",
            "27/27 [==============================] - 2s 80ms/step - loss: 0.0021 - val_loss: 0.0043\n",
            "Epoch 13/100\n",
            "27/27 [==============================] - 2s 79ms/step - loss: 0.0020 - val_loss: 0.0041\n",
            "Epoch 14/100\n",
            "27/27 [==============================] - 2s 79ms/step - loss: 0.0018 - val_loss: 0.0014\n",
            "Epoch 15/100\n",
            "27/27 [==============================] - 3s 111ms/step - loss: 0.0017 - val_loss: 0.0015\n",
            "Epoch 16/100\n",
            "27/27 [==============================] - 3s 105ms/step - loss: 0.0016 - val_loss: 0.0012\n",
            "Epoch 17/100\n",
            "27/27 [==============================] - 2s 79ms/step - loss: 0.0015 - val_loss: 0.0038\n",
            "Epoch 18/100\n",
            "27/27 [==============================] - 2s 81ms/step - loss: 0.0016 - val_loss: 0.0011\n",
            "Epoch 19/100\n",
            "27/27 [==============================] - 2s 81ms/step - loss: 0.0017 - val_loss: 0.0012\n",
            "Epoch 20/100\n",
            "27/27 [==============================] - 3s 98ms/step - loss: 0.0016 - val_loss: 0.0011\n",
            "Epoch 21/100\n",
            "27/27 [==============================] - 4s 134ms/step - loss: 0.0017 - val_loss: 0.0043\n",
            "Epoch 22/100\n",
            "27/27 [==============================] - 2s 80ms/step - loss: 0.0015 - val_loss: 8.4766e-04\n",
            "Epoch 23/100\n",
            "27/27 [==============================] - 2s 80ms/step - loss: 0.0013 - val_loss: 0.0015\n",
            "Epoch 24/100\n",
            "27/27 [==============================] - 2s 81ms/step - loss: 0.0015 - val_loss: 0.0019\n",
            "Epoch 25/100\n",
            "27/27 [==============================] - 2s 80ms/step - loss: 0.0012 - val_loss: 0.0011\n",
            "Epoch 26/100\n",
            "27/27 [==============================] - 3s 101ms/step - loss: 0.0012 - val_loss: 0.0010\n",
            "Epoch 27/100\n",
            "27/27 [==============================] - 3s 119ms/step - loss: 0.0011 - val_loss: 6.4592e-04\n",
            "Epoch 28/100\n",
            "27/27 [==============================] - 2s 83ms/step - loss: 0.0012 - val_loss: 0.0011\n",
            "Epoch 29/100\n",
            "27/27 [==============================] - 2s 83ms/step - loss: 0.0012 - val_loss: 8.6384e-04\n",
            "Epoch 30/100\n",
            "27/27 [==============================] - 2s 83ms/step - loss: 0.0011 - val_loss: 6.4671e-04\n",
            "Epoch 31/100\n",
            "27/27 [==============================] - 3s 97ms/step - loss: 9.6823e-04 - val_loss: 6.1603e-04\n",
            "Epoch 32/100\n",
            "27/27 [==============================] - 4s 144ms/step - loss: 9.3748e-04 - val_loss: 5.8426e-04\n",
            "Epoch 33/100\n",
            "27/27 [==============================] - 3s 118ms/step - loss: 9.1371e-04 - val_loss: 5.3778e-04\n",
            "Epoch 34/100\n",
            "27/27 [==============================] - 2s 88ms/step - loss: 9.2198e-04 - val_loss: 0.0011\n",
            "Epoch 35/100\n",
            "27/27 [==============================] - 2s 87ms/step - loss: 8.6109e-04 - val_loss: 5.3485e-04\n",
            "Epoch 36/100\n",
            "27/27 [==============================] - 4s 139ms/step - loss: 7.6714e-04 - val_loss: 6.7993e-04\n",
            "Epoch 37/100\n",
            "27/27 [==============================] - 3s 118ms/step - loss: 8.3134e-04 - val_loss: 6.8786e-04\n",
            "Epoch 38/100\n",
            "27/27 [==============================] - 2s 83ms/step - loss: 8.6022e-04 - val_loss: 5.6638e-04\n",
            "Epoch 39/100\n",
            "27/27 [==============================] - 2s 84ms/step - loss: 7.4174e-04 - val_loss: 4.9321e-04\n",
            "Epoch 40/100\n",
            "27/27 [==============================] - 2s 85ms/step - loss: 7.9230e-04 - val_loss: 0.0016\n",
            "Epoch 41/100\n",
            "27/27 [==============================] - 2s 83ms/step - loss: 7.5263e-04 - val_loss: 4.9237e-04\n",
            "Epoch 42/100\n",
            "27/27 [==============================] - 4s 135ms/step - loss: 9.4883e-04 - val_loss: 0.0019\n",
            "Epoch 43/100\n",
            "27/27 [==============================] - 2s 86ms/step - loss: 8.3199e-04 - val_loss: 6.7684e-04\n",
            "Epoch 44/100\n",
            "27/27 [==============================] - 2s 83ms/step - loss: 7.0119e-04 - val_loss: 6.2243e-04\n",
            "Epoch 45/100\n",
            "27/27 [==============================] - 2s 82ms/step - loss: 7.2771e-04 - val_loss: 4.6692e-04\n",
            "Epoch 46/100\n",
            "27/27 [==============================] - 2s 81ms/step - loss: 6.5298e-04 - val_loss: 9.7645e-04\n",
            "Epoch 47/100\n",
            "27/27 [==============================] - 3s 107ms/step - loss: 8.1578e-04 - val_loss: 6.9121e-04\n",
            "Epoch 48/100\n",
            "27/27 [==============================] - 3s 112ms/step - loss: 7.4549e-04 - val_loss: 4.3390e-04\n",
            "Epoch 49/100\n",
            "27/27 [==============================] - 2s 81ms/step - loss: 8.4023e-04 - val_loss: 5.0786e-04\n",
            "Epoch 50/100\n",
            "27/27 [==============================] - 2s 84ms/step - loss: 6.2662e-04 - val_loss: 4.9638e-04\n",
            "Epoch 51/100\n",
            "27/27 [==============================] - 2s 82ms/step - loss: 6.2415e-04 - val_loss: 0.0011\n",
            "Epoch 52/100\n",
            "27/27 [==============================] - 2s 82ms/step - loss: 6.0798e-04 - val_loss: 0.0011\n",
            "Epoch 53/100\n",
            "27/27 [==============================] - 4s 134ms/step - loss: 6.5150e-04 - val_loss: 4.6718e-04\n",
            "Epoch 54/100\n",
            "27/27 [==============================] - 2s 81ms/step - loss: 6.3739e-04 - val_loss: 4.3520e-04\n",
            "Epoch 55/100\n",
            "27/27 [==============================] - 2s 83ms/step - loss: 6.0506e-04 - val_loss: 6.9511e-04\n",
            "Epoch 56/100\n",
            "27/27 [==============================] - 2s 83ms/step - loss: 5.9387e-04 - val_loss: 6.1760e-04\n",
            "Epoch 57/100\n",
            "27/27 [==============================] - 2s 81ms/step - loss: 6.3376e-04 - val_loss: 7.9919e-04\n",
            "Epoch 58/100\n",
            "27/27 [==============================] - 3s 104ms/step - loss: 6.2244e-04 - val_loss: 4.0394e-04\n",
            "Epoch 59/100\n",
            "27/27 [==============================] - 3s 112ms/step - loss: 5.4345e-04 - val_loss: 6.3202e-04\n",
            "Epoch 60/100\n",
            "27/27 [==============================] - 2s 81ms/step - loss: 5.7200e-04 - val_loss: 5.3187e-04\n",
            "Epoch 61/100\n",
            "27/27 [==============================] - 2s 81ms/step - loss: 5.6431e-04 - val_loss: 3.5288e-04\n",
            "Epoch 62/100\n",
            "27/27 [==============================] - 2s 81ms/step - loss: 5.5702e-04 - val_loss: 5.5206e-04\n",
            "Epoch 63/100\n",
            "27/27 [==============================] - 2s 82ms/step - loss: 6.3865e-04 - val_loss: 8.0356e-04\n",
            "Epoch 64/100\n",
            "27/27 [==============================] - 3s 123ms/step - loss: 5.6888e-04 - val_loss: 3.3148e-04\n",
            "Epoch 65/100\n",
            "27/27 [==============================] - 2s 90ms/step - loss: 5.2394e-04 - val_loss: 9.5103e-04\n",
            "Epoch 66/100\n",
            "27/27 [==============================] - 2s 79ms/step - loss: 5.6820e-04 - val_loss: 3.9924e-04\n",
            "Epoch 67/100\n",
            "27/27 [==============================] - 2s 81ms/step - loss: 5.9294e-04 - val_loss: 9.1787e-04\n",
            "Epoch 68/100\n",
            "27/27 [==============================] - 2s 81ms/step - loss: 6.1351e-04 - val_loss: 3.4009e-04\n",
            "Epoch 69/100\n",
            "27/27 [==============================] - 2s 91ms/step - loss: 5.3121e-04 - val_loss: 3.0890e-04\n",
            "Epoch 70/100\n",
            "27/27 [==============================] - 3s 124ms/step - loss: 5.6906e-04 - val_loss: 4.7893e-04\n",
            "Epoch 71/100\n",
            "27/27 [==============================] - 2s 80ms/step - loss: 4.7392e-04 - val_loss: 3.0063e-04\n",
            "Epoch 72/100\n",
            "27/27 [==============================] - 2s 81ms/step - loss: 5.3411e-04 - val_loss: 3.2320e-04\n",
            "Epoch 73/100\n",
            "27/27 [==============================] - 2s 80ms/step - loss: 5.3204e-04 - val_loss: 4.1612e-04\n",
            "Epoch 74/100\n",
            "27/27 [==============================] - 2s 80ms/step - loss: 6.1989e-04 - val_loss: 4.0009e-04\n",
            "Epoch 75/100\n",
            "27/27 [==============================] - 3s 103ms/step - loss: 5.5934e-04 - val_loss: 3.7925e-04\n",
            "Epoch 76/100\n",
            "27/27 [==============================] - 3s 108ms/step - loss: 5.5615e-04 - val_loss: 3.6449e-04\n",
            "Epoch 77/100\n",
            "27/27 [==============================] - 2s 80ms/step - loss: 5.2426e-04 - val_loss: 7.0381e-04\n",
            "Epoch 78/100\n",
            "27/27 [==============================] - 2s 79ms/step - loss: 4.6453e-04 - val_loss: 7.3033e-04\n",
            "Epoch 79/100\n",
            "27/27 [==============================] - 2s 79ms/step - loss: 5.6314e-04 - val_loss: 5.9549e-04\n",
            "Epoch 80/100\n",
            "27/27 [==============================] - 2s 80ms/step - loss: 6.5156e-04 - val_loss: 3.3138e-04\n",
            "Epoch 81/100\n",
            "27/27 [==============================] - 3s 125ms/step - loss: 5.2634e-04 - val_loss: 3.4025e-04\n",
            "Epoch 82/100\n",
            "27/27 [==============================] - 3s 92ms/step - loss: 4.9834e-04 - val_loss: 3.2442e-04\n",
            "Epoch 83/100\n",
            "27/27 [==============================] - 2s 80ms/step - loss: 5.8224e-04 - val_loss: 3.1854e-04\n",
            "Epoch 84/100\n",
            "27/27 [==============================] - 2s 80ms/step - loss: 4.9997e-04 - val_loss: 2.8695e-04\n",
            "Epoch 85/100\n",
            "27/27 [==============================] - 2s 80ms/step - loss: 4.5042e-04 - val_loss: 6.4945e-04\n",
            "Epoch 86/100\n",
            "27/27 [==============================] - 2s 87ms/step - loss: 4.3120e-04 - val_loss: 2.6530e-04\n",
            "Epoch 87/100\n",
            "27/27 [==============================] - 3s 125ms/step - loss: 4.2239e-04 - val_loss: 4.3240e-04\n",
            "Epoch 88/100\n",
            "27/27 [==============================] - 2s 82ms/step - loss: 6.2977e-04 - val_loss: 4.3421e-04\n",
            "Epoch 89/100\n",
            "27/27 [==============================] - 2s 80ms/step - loss: 5.3472e-04 - val_loss: 4.0131e-04\n",
            "Epoch 90/100\n",
            "27/27 [==============================] - 2s 80ms/step - loss: 4.2204e-04 - val_loss: 2.7841e-04\n",
            "Epoch 91/100\n",
            "27/27 [==============================] - 2s 80ms/step - loss: 4.2797e-04 - val_loss: 3.1867e-04\n",
            "Epoch 92/100\n",
            "27/27 [==============================] - 3s 104ms/step - loss: 4.5162e-04 - val_loss: 2.7399e-04\n",
            "Epoch 93/100\n",
            "27/27 [==============================] - 3s 112ms/step - loss: 4.0705e-04 - val_loss: 2.9387e-04\n",
            "Epoch 94/100\n",
            "27/27 [==============================] - 2s 80ms/step - loss: 5.1288e-04 - val_loss: 4.2688e-04\n",
            "Epoch 95/100\n",
            "27/27 [==============================] - 2s 80ms/step - loss: 5.3432e-04 - val_loss: 3.4860e-04\n",
            "Epoch 96/100\n",
            "27/27 [==============================] - 2s 86ms/step - loss: 4.7044e-04 - val_loss: 2.9312e-04\n",
            "Epoch 97/100\n",
            "27/27 [==============================] - 2s 81ms/step - loss: 4.2893e-04 - val_loss: 2.6522e-04\n",
            "Epoch 98/100\n",
            "27/27 [==============================] - 3s 125ms/step - loss: 4.2849e-04 - val_loss: 2.6105e-04\n",
            "Epoch 99/100\n",
            "27/27 [==============================] - 2s 88ms/step - loss: 4.7560e-04 - val_loss: 3.6597e-04\n",
            "Epoch 100/100\n",
            "27/27 [==============================] - 2s 81ms/step - loss: 4.3516e-04 - val_loss: 3.7605e-04\n"
          ]
        }
      ]
    },
    {
      "cell_type": "code",
      "source": [
        "from keras.layers import BatchNormalization\n",
        "\n",
        "# Adding Dropout and Batch Normalization\n",
        "model.add(Dropout(0.2))\n",
        "model.add(BatchNormalization())"
      ],
      "metadata": {
        "id": "MsXr9gibMbxX"
      },
      "execution_count": null,
      "outputs": []
    },
    {
      "cell_type": "code",
      "source": [
        "model.compile(optimizer='adam', loss='mean_squared_error')"
      ],
      "metadata": {
        "id": "1RGfoXukMkhl"
      },
      "execution_count": null,
      "outputs": []
    },
    {
      "cell_type": "code",
      "source": [
        "# Assume 'data' is your preprocessed dataset\n",
        "train_size = int(len(aapl_data) * 0.8)\n",
        "train_data, test_data = aapl_data[:train_size], aapl_data[train_size:]"
      ],
      "metadata": {
        "id": "TUuhy2iyMmH9"
      },
      "execution_count": null,
      "outputs": []
    },
    {
      "cell_type": "code",
      "source": [
        "model.summary()"
      ],
      "metadata": {
        "colab": {
          "base_uri": "https://localhost:8080/"
        },
        "id": "Dcsu280IMmrc",
        "outputId": "79d9a274-d56f-4560-9a94-f28c1eb6685c"
      },
      "execution_count": null,
      "outputs": [
        {
          "output_type": "stream",
          "name": "stdout",
          "text": [
            "Model: \"sequential\"\n",
            "_________________________________________________________________\n",
            " Layer (type)                Output Shape              Param #   \n",
            "=================================================================\n",
            " lstm (LSTM)                 (None, 60, 50)            10400     \n",
            "                                                                 \n",
            " lstm_1 (LSTM)               (None, 60, 50)            20200     \n",
            "                                                                 \n",
            " lstm_2 (LSTM)               (None, 50)                20200     \n",
            "                                                                 \n",
            " dense (Dense)               (None, 1)                 51        \n",
            "                                                                 \n",
            " dropout (Dropout)           (None, 1)                 0         \n",
            "                                                                 \n",
            " batch_normalization (Batch  (None, 1)                 4         \n",
            " Normalization)                                                  \n",
            "                                                                 \n",
            "=================================================================\n",
            "Total params: 50855 (198.65 KB)\n",
            "Trainable params: 50853 (198.64 KB)\n",
            "Non-trainable params: 2 (8.00 Byte)\n",
            "_________________________________________________________________\n"
          ]
        }
      ]
    },
    {
      "cell_type": "code",
      "source": [
        "# Assuming X_train and y_train are already defined and preprocessed\n",
        "history = model.fit(X_train, y_train, epochs=100, batch_size=25, validation_split=0.2)"
      ],
      "metadata": {
        "colab": {
          "base_uri": "https://localhost:8080/"
        },
        "id": "PqLv0B4ZMm2F",
        "outputId": "2b2b548e-95bf-4a61-9171-80cf0af962bd"
      },
      "execution_count": null,
      "outputs": [
        {
          "output_type": "stream",
          "name": "stdout",
          "text": [
            "Epoch 1/100\n",
            "27/27 [==============================] - 10s 129ms/step - loss: 0.8461 - val_loss: 0.5594\n",
            "Epoch 2/100\n",
            "27/27 [==============================] - 2s 80ms/step - loss: 0.3419 - val_loss: 0.5347\n",
            "Epoch 3/100\n",
            "27/27 [==============================] - 2s 80ms/step - loss: 0.2642 - val_loss: 0.4715\n",
            "Epoch 4/100\n",
            "27/27 [==============================] - 3s 101ms/step - loss: 0.2366 - val_loss: 0.4263\n",
            "Epoch 5/100\n",
            "27/27 [==============================] - 4s 147ms/step - loss: 0.2111 - val_loss: 0.3747\n",
            "Epoch 6/100\n",
            "27/27 [==============================] - 2s 80ms/step - loss: 0.1881 - val_loss: 0.3492\n",
            "Epoch 7/100\n",
            "27/27 [==============================] - 2s 80ms/step - loss: 0.1665 - val_loss: 0.3171\n",
            "Epoch 8/100\n",
            "27/27 [==============================] - 2s 80ms/step - loss: 0.1516 - val_loss: 0.2908\n",
            "Epoch 9/100\n",
            "27/27 [==============================] - 2s 80ms/step - loss: 0.1325 - val_loss: 0.2754\n",
            "Epoch 10/100\n",
            "27/27 [==============================] - 3s 126ms/step - loss: 0.1183 - val_loss: 0.2637\n",
            "Epoch 11/100\n",
            "27/27 [==============================] - 2s 84ms/step - loss: 0.1057 - val_loss: 0.2477\n",
            "Epoch 12/100\n",
            "27/27 [==============================] - 2s 81ms/step - loss: 0.0952 - val_loss: 0.2003\n",
            "Epoch 13/100\n",
            "27/27 [==============================] - 2s 79ms/step - loss: 0.0871 - val_loss: 0.2047\n",
            "Epoch 14/100\n",
            "27/27 [==============================] - 2s 80ms/step - loss: 0.0716 - val_loss: 0.1768\n",
            "Epoch 15/100\n",
            "27/27 [==============================] - 3s 95ms/step - loss: 0.0652 - val_loss: 0.1342\n",
            "Epoch 16/100\n",
            "27/27 [==============================] - 3s 123ms/step - loss: 0.0589 - val_loss: 0.0866\n",
            "Epoch 17/100\n",
            "27/27 [==============================] - 2s 81ms/step - loss: 0.0526 - val_loss: 0.1352\n",
            "Epoch 18/100\n",
            "27/27 [==============================] - 2s 80ms/step - loss: 0.0454 - val_loss: 0.1047\n",
            "Epoch 19/100\n",
            "27/27 [==============================] - 2s 81ms/step - loss: 0.0421 - val_loss: 0.0550\n",
            "Epoch 20/100\n",
            "27/27 [==============================] - 2s 80ms/step - loss: 0.0397 - val_loss: 0.0575\n",
            "Epoch 21/100\n",
            "27/27 [==============================] - 3s 109ms/step - loss: 0.0350 - val_loss: 0.0681\n",
            "Epoch 22/100\n",
            "27/27 [==============================] - 3s 122ms/step - loss: 0.0292 - val_loss: 0.0642\n",
            "Epoch 23/100\n",
            "27/27 [==============================] - 2s 81ms/step - loss: 0.0271 - val_loss: 0.0498\n",
            "Epoch 24/100\n",
            "27/27 [==============================] - 2s 80ms/step - loss: 0.0217 - val_loss: 0.0811\n",
            "Epoch 25/100\n",
            "27/27 [==============================] - 2s 82ms/step - loss: 0.0234 - val_loss: 0.0497\n",
            "Epoch 26/100\n",
            "27/27 [==============================] - 2s 80ms/step - loss: 0.0189 - val_loss: 0.0226\n",
            "Epoch 27/100\n",
            "27/27 [==============================] - 3s 130ms/step - loss: 0.0150 - val_loss: 0.0414\n",
            "Epoch 28/100\n",
            "27/27 [==============================] - 2s 85ms/step - loss: 0.0155 - val_loss: 0.0477\n",
            "Epoch 29/100\n",
            "27/27 [==============================] - 2s 81ms/step - loss: 0.0140 - val_loss: 0.0167\n",
            "Epoch 30/100\n",
            "27/27 [==============================] - 2s 80ms/step - loss: 0.0148 - val_loss: 0.0037\n",
            "Epoch 31/100\n",
            "27/27 [==============================] - 2s 80ms/step - loss: 0.0148 - val_loss: 0.0190\n",
            "Epoch 32/100\n",
            "27/27 [==============================] - 3s 95ms/step - loss: 0.0130 - val_loss: 0.0088\n",
            "Epoch 33/100\n",
            "27/27 [==============================] - 3s 118ms/step - loss: 0.0121 - val_loss: 0.0015\n",
            "Epoch 34/100\n",
            "27/27 [==============================] - 2s 80ms/step - loss: 0.0107 - val_loss: 0.0411\n",
            "Epoch 35/100\n",
            "27/27 [==============================] - 2s 81ms/step - loss: 0.0119 - val_loss: 0.0082\n",
            "Epoch 36/100\n",
            "27/27 [==============================] - 2s 81ms/step - loss: 0.0117 - val_loss: 0.0016\n",
            "Epoch 37/100\n",
            "27/27 [==============================] - 2s 82ms/step - loss: 0.0110 - val_loss: 0.0246\n",
            "Epoch 38/100\n",
            "27/27 [==============================] - 3s 119ms/step - loss: 0.0125 - val_loss: 0.0027\n",
            "Epoch 39/100\n",
            "27/27 [==============================] - 3s 99ms/step - loss: 0.0122 - val_loss: 0.0336\n",
            "Epoch 40/100\n",
            "27/27 [==============================] - 2s 80ms/step - loss: 0.0098 - val_loss: 0.0050\n",
            "Epoch 41/100\n",
            "27/27 [==============================] - 2s 82ms/step - loss: 0.0094 - val_loss: 0.0046\n",
            "Epoch 42/100\n",
            "27/27 [==============================] - 2s 81ms/step - loss: 0.0107 - val_loss: 0.0154\n",
            "Epoch 43/100\n",
            "27/27 [==============================] - 2s 88ms/step - loss: 0.0152 - val_loss: 0.0017\n",
            "Epoch 44/100\n",
            "27/27 [==============================] - 3s 129ms/step - loss: 0.0095 - val_loss: 0.0016\n",
            "Epoch 45/100\n",
            "27/27 [==============================] - 2s 83ms/step - loss: 0.0085 - val_loss: 0.0014\n",
            "Epoch 46/100\n",
            "27/27 [==============================] - 2s 80ms/step - loss: 0.0105 - val_loss: 0.0254\n",
            "Epoch 47/100\n",
            "27/27 [==============================] - 2s 81ms/step - loss: 0.0122 - val_loss: 0.0043\n",
            "Epoch 48/100\n",
            "27/27 [==============================] - 2s 80ms/step - loss: 0.0120 - val_loss: 0.0013\n",
            "Epoch 49/100\n",
            "27/27 [==============================] - 3s 104ms/step - loss: 0.0102 - val_loss: 0.0078\n",
            "Epoch 50/100\n",
            "27/27 [==============================] - 3s 118ms/step - loss: 0.0105 - val_loss: 0.0263\n",
            "Epoch 51/100\n",
            "27/27 [==============================] - 2s 81ms/step - loss: 0.0092 - val_loss: 0.0102\n",
            "Epoch 52/100\n",
            "27/27 [==============================] - 2s 82ms/step - loss: 0.0099 - val_loss: 0.0049\n",
            "Epoch 53/100\n",
            "27/27 [==============================] - 2s 82ms/step - loss: 0.0100 - val_loss: 0.0028\n",
            "Epoch 54/100\n",
            "27/27 [==============================] - 2s 81ms/step - loss: 0.0089 - val_loss: 0.0012\n",
            "Epoch 55/100\n",
            "27/27 [==============================] - 3s 121ms/step - loss: 0.0111 - val_loss: 0.0043\n",
            "Epoch 56/100\n",
            "27/27 [==============================] - 3s 97ms/step - loss: 0.0090 - val_loss: 0.0091\n",
            "Epoch 57/100\n",
            "27/27 [==============================] - 2s 81ms/step - loss: 0.0133 - val_loss: 0.0122\n",
            "Epoch 58/100\n",
            "27/27 [==============================] - 2s 81ms/step - loss: 0.0090 - val_loss: 0.0033\n",
            "Epoch 59/100\n",
            "27/27 [==============================] - 2s 88ms/step - loss: 0.0097 - val_loss: 0.0036\n",
            "Epoch 60/100\n",
            "27/27 [==============================] - 2s 93ms/step - loss: 0.0072 - val_loss: 0.0056\n",
            "Epoch 61/100\n",
            "27/27 [==============================] - 3s 128ms/step - loss: 0.0116 - val_loss: 0.0638\n",
            "Epoch 62/100\n",
            "27/27 [==============================] - 3s 103ms/step - loss: 0.0158 - val_loss: 0.0026\n",
            "Epoch 63/100\n",
            "27/27 [==============================] - 2s 80ms/step - loss: 0.0095 - val_loss: 0.0021\n",
            "Epoch 64/100\n",
            "27/27 [==============================] - 2s 80ms/step - loss: 0.0120 - val_loss: 0.0038\n",
            "Epoch 65/100\n",
            "27/27 [==============================] - 2s 81ms/step - loss: 0.0082 - val_loss: 0.0037\n",
            "Epoch 66/100\n",
            "27/27 [==============================] - 3s 119ms/step - loss: 0.0100 - val_loss: 0.0118\n",
            "Epoch 67/100\n",
            "27/27 [==============================] - 3s 93ms/step - loss: 0.0097 - val_loss: 0.0024\n",
            "Epoch 68/100\n",
            "27/27 [==============================] - 2s 81ms/step - loss: 0.0104 - val_loss: 0.0064\n",
            "Epoch 69/100\n",
            "27/27 [==============================] - 2s 82ms/step - loss: 0.0136 - val_loss: 0.0072\n",
            "Epoch 70/100\n",
            "27/27 [==============================] - 2s 81ms/step - loss: 0.0104 - val_loss: 0.0023\n",
            "Epoch 71/100\n",
            "27/27 [==============================] - 2s 89ms/step - loss: 0.0086 - val_loss: 0.0020\n",
            "Epoch 72/100\n",
            "27/27 [==============================] - 3s 124ms/step - loss: 0.0126 - val_loss: 0.0237\n",
            "Epoch 73/100\n",
            "27/27 [==============================] - 2s 82ms/step - loss: 0.0103 - val_loss: 0.0013\n",
            "Epoch 74/100\n",
            "27/27 [==============================] - 2s 80ms/step - loss: 0.0103 - val_loss: 0.0035\n",
            "Epoch 75/100\n",
            "27/27 [==============================] - 2s 81ms/step - loss: 0.0098 - val_loss: 0.0081\n",
            "Epoch 76/100\n",
            "27/27 [==============================] - 2s 81ms/step - loss: 0.0082 - val_loss: 0.0040\n",
            "Epoch 77/100\n",
            "27/27 [==============================] - 3s 113ms/step - loss: 0.0086 - val_loss: 0.0017\n",
            "Epoch 78/100\n",
            "27/27 [==============================] - 3s 99ms/step - loss: 0.0100 - val_loss: 0.0051\n",
            "Epoch 79/100\n",
            "27/27 [==============================] - 2s 80ms/step - loss: 0.0103 - val_loss: 0.0016\n",
            "Epoch 80/100\n",
            "27/27 [==============================] - 2s 81ms/step - loss: 0.0101 - val_loss: 0.0028\n",
            "Epoch 81/100\n",
            "27/27 [==============================] - 2s 82ms/step - loss: 0.0118 - val_loss: 0.0145\n",
            "Epoch 82/100\n",
            "27/27 [==============================] - 2s 87ms/step - loss: 0.0115 - val_loss: 0.0033\n",
            "Epoch 83/100\n",
            "27/27 [==============================] - 3s 129ms/step - loss: 0.0078 - val_loss: 0.0035\n",
            "Epoch 84/100\n",
            "27/27 [==============================] - 2s 81ms/step - loss: 0.0097 - val_loss: 0.0016\n",
            "Epoch 85/100\n",
            "27/27 [==============================] - 2s 81ms/step - loss: 0.0090 - val_loss: 0.0021\n",
            "Epoch 86/100\n",
            "27/27 [==============================] - 2s 82ms/step - loss: 0.0098 - val_loss: 0.0017\n",
            "Epoch 87/100\n",
            "27/27 [==============================] - 2s 80ms/step - loss: 0.0088 - val_loss: 0.0294\n",
            "Epoch 88/100\n",
            "27/27 [==============================] - 3s 106ms/step - loss: 0.0087 - val_loss: 0.0042\n",
            "Epoch 89/100\n",
            "27/27 [==============================] - 3s 115ms/step - loss: 0.0114 - val_loss: 0.0039\n",
            "Epoch 90/100\n",
            "27/27 [==============================] - 2s 82ms/step - loss: 0.0107 - val_loss: 0.0064\n",
            "Epoch 91/100\n",
            "27/27 [==============================] - 2s 80ms/step - loss: 0.0077 - val_loss: 0.0059\n",
            "Epoch 92/100\n",
            "27/27 [==============================] - 2s 81ms/step - loss: 0.0094 - val_loss: 0.0052\n",
            "Epoch 93/100\n",
            "27/27 [==============================] - 2s 81ms/step - loss: 0.0103 - val_loss: 0.0011\n",
            "Epoch 94/100\n",
            "27/27 [==============================] - 3s 122ms/step - loss: 0.0102 - val_loss: 0.0228\n",
            "Epoch 95/100\n",
            "27/27 [==============================] - 3s 96ms/step - loss: 0.0097 - val_loss: 0.0010\n",
            "Epoch 96/100\n",
            "27/27 [==============================] - 2s 80ms/step - loss: 0.0102 - val_loss: 0.0014\n",
            "Epoch 97/100\n",
            "27/27 [==============================] - 2s 80ms/step - loss: 0.0072 - val_loss: 0.0025\n",
            "Epoch 98/100\n",
            "27/27 [==============================] - 2s 81ms/step - loss: 0.0100 - val_loss: 0.0028\n",
            "Epoch 99/100\n",
            "27/27 [==============================] - 3s 94ms/step - loss: 0.0085 - val_loss: 0.0013\n",
            "Epoch 100/100\n",
            "27/27 [==============================] - 3s 122ms/step - loss: 0.0086 - val_loss: 0.0031\n"
          ]
        }
      ]
    },
    {
      "cell_type": "code",
      "source": [
        "from keras.callbacks import EarlyStopping\n",
        "\n",
        "early_stopping = EarlyStopping(monitor='val_loss', patience=10)\n",
        "history = model.fit(X_train, y_train, epochs=100, batch_size=25, validation_split=0.2, callbacks=[early_stopping])"
      ],
      "metadata": {
        "colab": {
          "base_uri": "https://localhost:8080/"
        },
        "id": "LBfyxBVyMm_N",
        "outputId": "2e37a3fc-58ad-43d9-bae7-c72155b57a90"
      },
      "execution_count": null,
      "outputs": [
        {
          "output_type": "stream",
          "name": "stdout",
          "text": [
            "Epoch 1/100\n",
            "27/27 [==============================] - 3s 108ms/step - loss: 0.0101 - val_loss: 0.0014\n",
            "Epoch 2/100\n",
            "27/27 [==============================] - 2s 79ms/step - loss: 0.0091 - val_loss: 0.0019\n",
            "Epoch 3/100\n",
            "27/27 [==============================] - 4s 135ms/step - loss: 0.0120 - val_loss: 0.0073\n",
            "Epoch 4/100\n",
            "27/27 [==============================] - 2s 81ms/step - loss: 0.0100 - val_loss: 0.0013\n",
            "Epoch 5/100\n",
            "27/27 [==============================] - 3s 111ms/step - loss: 0.0106 - val_loss: 0.0032\n",
            "Epoch 6/100\n",
            "27/27 [==============================] - 3s 109ms/step - loss: 0.0095 - val_loss: 0.0013\n",
            "Epoch 7/100\n",
            "27/27 [==============================] - 2s 81ms/step - loss: 0.0098 - val_loss: 0.0012\n",
            "Epoch 8/100\n",
            "27/27 [==============================] - 2s 82ms/step - loss: 0.0094 - val_loss: 0.0017\n",
            "Epoch 9/100\n",
            "27/27 [==============================] - 3s 115ms/step - loss: 0.0107 - val_loss: 0.0112\n",
            "Epoch 10/100\n",
            "27/27 [==============================] - 5s 187ms/step - loss: 0.0076 - val_loss: 0.0046\n",
            "Epoch 11/100\n",
            "27/27 [==============================] - 2s 86ms/step - loss: 0.0097 - val_loss: 0.0036\n",
            "Epoch 12/100\n",
            "27/27 [==============================] - 2s 79ms/step - loss: 0.0117 - val_loss: 0.0034\n",
            "Epoch 13/100\n",
            "27/27 [==============================] - 2s 79ms/step - loss: 0.0077 - val_loss: 0.0030\n",
            "Epoch 14/100\n",
            "27/27 [==============================] - 2s 79ms/step - loss: 0.0099 - val_loss: 0.0139\n",
            "Epoch 15/100\n",
            "27/27 [==============================] - 2s 92ms/step - loss: 0.0111 - val_loss: 0.0014\n",
            "Epoch 16/100\n",
            "27/27 [==============================] - 3s 119ms/step - loss: 0.0140 - val_loss: 0.0042\n",
            "Epoch 17/100\n",
            "27/27 [==============================] - 2s 79ms/step - loss: 0.0097 - val_loss: 0.0080\n"
          ]
        }
      ]
    },
    {
      "cell_type": "code",
      "source": [
        "from keras.callbacks import ModelCheckpoint, ReduceLROnPlateau, TensorBoard, CSVLogger\n",
        "\n",
        "# Callback to save the model periodically\n",
        "model_checkpoint = ModelCheckpoint('best_model.h5', save_best_only=True, monitor='val_loss')\n",
        "\n",
        "# Callback to reduce learning rate when a metric has stopped improving\n",
        "reduce_lr = ReduceLROnPlateau(monitor='val_loss', factor=0.1, patience=5)\n",
        "\n",
        "# Callback for TensorBoard\n",
        "tensorboard = TensorBoard(log_dir='./logs')\n",
        "\n",
        "# Callback to log details to a CSV file\n",
        "csv_logger = CSVLogger('training_log.csv')\n",
        "\n",
        "# Combining all callbacks\n",
        "callbacks_list = [early_stopping, model_checkpoint, reduce_lr, tensorboard, csv_logger]\n",
        "\n",
        "# Fit the model with the callbacks\n",
        "history = model.fit(X_train, y_train, epochs=100, batch_size=25, validation_split=0.2, callbacks=callbacks_list)"
      ],
      "metadata": {
        "colab": {
          "base_uri": "https://localhost:8080/"
        },
        "id": "kMjJ-tqNOa3-",
        "outputId": "358ce7eb-771a-4091-faea-2182f10d4898"
      },
      "execution_count": null,
      "outputs": [
        {
          "output_type": "stream",
          "name": "stdout",
          "text": [
            "Epoch 1/100\n",
            "27/27 [==============================] - 3s 91ms/step - loss: 0.0103 - val_loss: 0.0012 - lr: 0.0010\n",
            "Epoch 2/100\n",
            " 1/27 [>.............................] - ETA: 1s - loss: 0.0077"
          ]
        },
        {
          "output_type": "stream",
          "name": "stderr",
          "text": [
            "/usr/local/lib/python3.10/dist-packages/keras/src/engine/training.py:3103: UserWarning: You are saving your model as an HDF5 file via `model.save()`. This file format is considered legacy. We recommend using instead the native Keras format, e.g. `model.save('my_model.keras')`.\n",
            "  saving_api.save_model(\n"
          ]
        },
        {
          "output_type": "stream",
          "name": "stdout",
          "text": [
            "27/27 [==============================] - 2s 81ms/step - loss: 0.0090 - val_loss: 0.0024 - lr: 0.0010\n",
            "Epoch 3/100\n",
            "27/27 [==============================] - 2s 80ms/step - loss: 0.0095 - val_loss: 0.0020 - lr: 0.0010\n",
            "Epoch 4/100\n",
            "27/27 [==============================] - 2s 92ms/step - loss: 0.0089 - val_loss: 0.0126 - lr: 0.0010\n",
            "Epoch 5/100\n",
            "27/27 [==============================] - 3s 127ms/step - loss: 0.0112 - val_loss: 0.0164 - lr: 0.0010\n",
            "Epoch 6/100\n",
            "27/27 [==============================] - 2s 86ms/step - loss: 0.0099 - val_loss: 0.0062 - lr: 0.0010\n",
            "Epoch 7/100\n",
            "27/27 [==============================] - 3s 112ms/step - loss: 0.0096 - val_loss: 0.0014 - lr: 1.0000e-04\n",
            "Epoch 8/100\n",
            "27/27 [==============================] - 3s 127ms/step - loss: 0.0102 - val_loss: 0.0023 - lr: 1.0000e-04\n",
            "Epoch 9/100\n",
            "27/27 [==============================] - 3s 120ms/step - loss: 0.0104 - val_loss: 0.0011 - lr: 1.0000e-04\n",
            "Epoch 10/100\n",
            "27/27 [==============================] - 3s 97ms/step - loss: 0.0087 - val_loss: 0.0050 - lr: 1.0000e-04\n",
            "Epoch 11/100\n",
            "27/27 [==============================] - 2s 80ms/step - loss: 0.0099 - val_loss: 0.0044 - lr: 1.0000e-04\n",
            "Epoch 12/100\n",
            "27/27 [==============================] - 2s 81ms/step - loss: 0.0099 - val_loss: 0.0036 - lr: 1.0000e-05\n",
            "Epoch 13/100\n",
            "27/27 [==============================] - 2s 79ms/step - loss: 0.0089 - val_loss: 0.0033 - lr: 1.0000e-05\n",
            "Epoch 14/100\n",
            "27/27 [==============================] - 2s 86ms/step - loss: 0.0097 - val_loss: 0.0028 - lr: 1.0000e-05\n",
            "Epoch 15/100\n",
            "27/27 [==============================] - 4s 131ms/step - loss: 0.0097 - val_loss: 0.0026 - lr: 1.0000e-05\n",
            "Epoch 16/100\n",
            "27/27 [==============================] - 2s 80ms/step - loss: 0.0085 - val_loss: 0.0025 - lr: 1.0000e-05\n",
            "Epoch 17/100\n",
            "27/27 [==============================] - 2s 80ms/step - loss: 0.0090 - val_loss: 0.0026 - lr: 1.0000e-06\n",
            "Epoch 18/100\n",
            "27/27 [==============================] - 2s 80ms/step - loss: 0.0090 - val_loss: 0.0027 - lr: 1.0000e-06\n",
            "Epoch 19/100\n",
            "27/27 [==============================] - 2s 80ms/step - loss: 0.0078 - val_loss: 0.0027 - lr: 1.0000e-06\n"
          ]
        }
      ]
    },
    {
      "cell_type": "code",
      "source": [
        "# Convert X_test and y_test to Numpy arrays if they are not already\n",
        "X_test = np.array(X_test)\n",
        "y_test = np.array(y_test)\n",
        "\n",
        "# Ensure X_test is reshaped similarly to how X_train was reshaped\n",
        "# This depends on how you preprocessed the training data\n",
        "X_test = np.reshape(X_test, (X_test.shape[0], X_test.shape[1], 1))\n",
        "\n",
        "# Now evaluate the model on the test data\n",
        "test_loss = model.evaluate(X_test, y_test)\n",
        "print(\"Test Loss: \", test_loss)"
      ],
      "metadata": {
        "colab": {
          "base_uri": "https://localhost:8080/"
        },
        "id": "-8jLLuFwOnMR",
        "outputId": "b3ab4250-2f30-4eb0-e1c7-5221325e28a2"
      },
      "execution_count": null,
      "outputs": [
        {
          "output_type": "stream",
          "name": "stdout",
          "text": [
            "7/7 [==============================] - 0s 24ms/step - loss: 0.0056\n",
            "Test Loss:  0.005577861797064543\n"
          ]
        }
      ]
    },
    {
      "cell_type": "code",
      "source": [
        "from sklearn.metrics import mean_absolute_error, mean_squared_error\n",
        "\n",
        "# Making predictions\n",
        "y_pred = model.predict(X_test)\n",
        "\n",
        "# Calculating MAE and RMSE\n",
        "mae = mean_absolute_error(y_test, y_pred)\n",
        "rmse = mean_squared_error(y_test, y_pred, squared=False)\n",
        "\n",
        "print(\"Mean Absolute Error: \", mae)\n",
        "print(\"Root Mean Square Error: \", rmse)"
      ],
      "metadata": {
        "colab": {
          "base_uri": "https://localhost:8080/"
        },
        "id": "-tDm89-0Onhi",
        "outputId": "85bd22e6-012c-4a25-9c32-711341de3f32"
      },
      "execution_count": null,
      "outputs": [
        {
          "output_type": "stream",
          "name": "stdout",
          "text": [
            "7/7 [==============================] - 2s 23ms/step\n",
            "Mean Absolute Error:  0.07174625318266357\n",
            "Root Mean Square Error:  0.07468508910836873\n"
          ]
        }
      ]
    },
    {
      "cell_type": "code",
      "source": [
        "import yfinance as yf\n",
        "import numpy as np\n",
        "from sklearn.preprocessing import MinMaxScaler\n",
        "\n",
        "# Fetching the latest 60 days of AAPL stock data\n",
        "data = yf.download('AAPL', period='3mo', interval='1d')\n",
        "\n",
        "# Selecting the 'Close' price and converting to numpy array\n",
        "closing_prices = data['Close'].values\n",
        "\n",
        "# Scaling the data\n",
        "scaler = MinMaxScaler(feature_range=(0,1))\n",
        "scaled_data = scaler.fit_transform(closing_prices.reshape(-1,1))\n",
        "\n",
        "# Since we need the last 60 days to predict the next day, we reshape the data accordingly\n",
        "X_latest = np.array([scaled_data[-60:].reshape(60)])\n",
        "\n",
        "# Reshaping the data for the model (adding batch dimension)\n",
        "X_latest = np.reshape(X_latest, (X_latest.shape[0], X_latest.shape[1], 1))\n",
        "\n",
        "# Making predictions for the next 4 candles\n",
        "predicted_stock_price = model.predict(X_latest)\n",
        "predicted_stock_price = scaler.inverse_transform(predicted_stock_price)\n",
        "\n",
        "print(\"Predicted Stock Prices for the next 4 days: \", predicted_stock_price)"
      ],
      "metadata": {
        "colab": {
          "base_uri": "https://localhost:8080/"
        },
        "id": "BmGunpCdOnpo",
        "outputId": "f1bc0cdb-b8bc-47e1-8453-53c821d9a16c"
      },
      "execution_count": null,
      "outputs": [
        {
          "output_type": "stream",
          "name": "stderr",
          "text": [
            "\r[*********************100%%**********************]  1 of 1 completed"
          ]
        },
        {
          "output_type": "stream",
          "name": "stdout",
          "text": [
            "1/1 [==============================] - 0s 37ms/step\n",
            "Predicted Stock Prices for the next 4 days:  [[183.4113]]\n"
          ]
        },
        {
          "output_type": "stream",
          "name": "stderr",
          "text": [
            "\n"
          ]
        }
      ]
    },
    {
      "cell_type": "code",
      "source": [
        "import yfinance as yf\n",
        "import numpy as np\n",
        "from sklearn.preprocessing import MinMaxScaler\n",
        "\n",
        "# Fetch the latest 60 days of AAPL stock data\n",
        "data = yf.download('AAPL', period='3mo', interval='1d')\n",
        "\n",
        "# Select 'Close' price and scale it\n",
        "closing_prices = data['Close'].values.reshape(-1, 1)\n",
        "scaler = MinMaxScaler(feature_range=(0, 1))\n",
        "scaled_data = scaler.fit_transform(closing_prices)\n",
        "\n",
        "# Predict the next 4 days iteratively\n",
        "predicted_prices = []\n",
        "current_batch = scaled_data[-60:].reshape(1, 60, 1)  # Most recent 60 days\n",
        "\n",
        "for i in range(4):  # Predicting 4 days\n",
        "    # Get the prediction (next day)\n",
        "    next_prediction = model.predict(current_batch)\n",
        "\n",
        "    # Reshape the prediction to fit the batch dimension\n",
        "    next_prediction_reshaped = next_prediction.reshape(1, 1, 1)\n",
        "\n",
        "    # Append the prediction to the batch used for predicting\n",
        "    current_batch = np.append(current_batch[:, 1:, :], next_prediction_reshaped, axis=1)\n",
        "\n",
        "    # Inverse transform the prediction to the original price scale\n",
        "    predicted_prices.append(scaler.inverse_transform(next_prediction)[0, 0])\n",
        "\n",
        "print(\"Predicted Stock Prices for the next 4 days: \", predicted_prices)"
      ],
      "metadata": {
        "colab": {
          "base_uri": "https://localhost:8080/"
        },
        "id": "r1dUxVb-OnwB",
        "outputId": "b06183cd-c1f5-4774-b9ff-983bc7a80858"
      },
      "execution_count": null,
      "outputs": [
        {
          "output_type": "stream",
          "name": "stderr",
          "text": [
            "\r[*********************100%%**********************]  1 of 1 completed"
          ]
        },
        {
          "output_type": "stream",
          "name": "stdout",
          "text": [
            "1/1 [==============================] - 0s 27ms/step\n",
            "1/1 [==============================] - 0s 30ms/step\n"
          ]
        },
        {
          "output_type": "stream",
          "name": "stderr",
          "text": [
            "\n"
          ]
        },
        {
          "output_type": "stream",
          "name": "stdout",
          "text": [
            "1/1 [==============================] - 0s 28ms/step\n",
            "1/1 [==============================] - 0s 29ms/step\n",
            "Predicted Stock Prices for the next 4 days:  [183.4113, 181.80785, 181.72827, 181.70447]\n"
          ]
        }
      ]
    },
    {
      "cell_type": "code",
      "source": [
        "!pip install mplfinance -qqq"
      ],
      "metadata": {
        "colab": {
          "base_uri": "https://localhost:8080/"
        },
        "id": "3OUFN2j1Ps33",
        "outputId": "9fd88642-b027-4dac-db9a-d8b1888ff345"
      },
      "execution_count": null,
      "outputs": [
        {
          "output_type": "stream",
          "name": "stdout",
          "text": [
            "\u001b[?25l     \u001b[90m━━━━━━━━━━━━━━━━━━━━━━━━━━━━━━━━━━━━━━━━\u001b[0m \u001b[32m0.0/75.0 kB\u001b[0m \u001b[31m?\u001b[0m eta \u001b[36m-:--:--\u001b[0m\r\u001b[2K     \u001b[90m━━━━━━━━━━━━━━━━━━━━━━━━━━━━━━━━━━━━━━━━\u001b[0m \u001b[32m75.0/75.0 kB\u001b[0m \u001b[31m2.2 MB/s\u001b[0m eta \u001b[36m0:00:00\u001b[0m\n",
            "\u001b[?25h"
          ]
        }
      ]
    },
    {
      "cell_type": "code",
      "source": [
        "import pandas as pd\n",
        "import mplfinance as mpf\n",
        "import matplotlib.dates as mpl_dates\n",
        "import matplotlib.pyplot as plt\n",
        "\n",
        "# Assuming 'data' is your DataFrame with the fetched AAPL stock data\n",
        "# Make sure it contains Open, High, Low, Close, and Volume columns\n",
        "\n",
        "# Creating a list of dates for the predictions\n",
        "last_date = data.index[-1]\n",
        "next_day = last_date + pd.Timedelta(days=1)\n",
        "prediction_dates = pd.date_range(start=next_day, periods=4)\n",
        "\n",
        "# Assuming 'predicted_prices' is your list of predicted prices for the next 4 days\n",
        "predictions_df = pd.DataFrame(index=prediction_dates, data=predicted_prices, columns=['Close'])\n",
        "\n",
        "# Plotting the actual data with mplfinance\n",
        "mpf.plot(data, type='candle', style='charles', volume=True)\n",
        "\n",
        "# Overlaying the predicted data\n",
        "plt.figure(figsize=(10,6))\n",
        "plt.plot(predictions_df.index, predictions_df['Close'], linestyle='dashed', marker='o', color='red')\n",
        "\n",
        "plt.title(\"AAPL Stock Price with Predicted Next 4 Days\")\n",
        "plt.show()"
      ],
      "metadata": {
        "colab": {
          "base_uri": "https://localhost:8080/",
          "height": 1000
        },
        "id": "dus4dB9FPs7B",
        "outputId": "a1335a91-f1d0-4b59-c2f8-0641451b2968"
      },
      "execution_count": null,
      "outputs": [
        {
          "output_type": "display_data",
          "data": {
            "text/plain": [
              "<Figure size 800x575 with 4 Axes>"
            ],
            "image/png": "[encoded data removed]"
          },
          "metadata": {}
        },
        {
          "output_type": "display_data",
          "data": {
            "text/plain": [
              "<Figure size 1000x600 with 1 Axes>"
            ],
            "image/png": "[encoded data removed]"
          },
          "metadata": {}
        }
      ]
    },
    {
      "cell_type": "code",
      "source": [
        "import pandas as pd\n",
        "import mplfinance as mpf\n",
        "import matplotlib.dates as mpl_dates\n",
        "import matplotlib.pyplot as plt\n",
        "\n",
        "# Fetch the latest 60 days of AAPL stock data\n",
        "data = yf.download('AAPL', period='3mo', interval='1d') # Fetch 30 days to display last 60 days in the chart\n",
        "\n",
        "# Select 'Close' price and scale it\n",
        "closing_prices = data['Close'].values.reshape(-1, 1)\n",
        "scaler = MinMaxScaler(feature_range=(0, 1))\n",
        "scaled_data = scaler.fit_transform(closing_prices)\n",
        "\n",
        "# Predict the next 4 days iteratively\n",
        "predicted_prices = []\n",
        "current_batch = scaled_data[-30:].reshape(1, 30, 1)  # Most recent 60 days\n",
        "\n",
        "for i in range(4):  # Predicting 4 days\n",
        "    next_prediction = model.predict(current_batch)\n",
        "    next_prediction_reshaped = next_prediction.reshape(1, 1, 1)\n",
        "    current_batch = np.append(current_batch[:, 1:, :], next_prediction_reshaped, axis=1)\n",
        "    predicted_prices.append(scaler.inverse_transform(next_prediction)[0, 0])\n",
        "\n",
        "# Creating a list of dates for the predictions\n",
        "last_date = data.index[-1]\n",
        "next_day = last_date + pd.Timedelta(days=1)\n",
        "prediction_dates = pd.date_range(start=next_day, periods=4)\n",
        "\n",
        "# Adding predictions to the DataFrame\n",
        "predicted_data = pd.DataFrame(index=prediction_dates, data=predicted_prices, columns=['Close'])\n",
        "\n",
        "# Combining both actual and predicted data\n",
        "combined_data = pd.concat([data['Close'], predicted_data['Close']])\n",
        "combined_data = combined_data[-64:] # Last 60 days of actual data + 4 days of predictions\n",
        "\n",
        "# Plotting the data\n",
        "plt.figure(figsize=(10,6))\n",
        "plt.plot(combined_data, linestyle='-', marker='o', color='blue')\n",
        "plt.title(\"AAPL Stock Price: Last 60 Days and Next 4 Days Predicted\")\n",
        "plt.show()"
      ],
      "metadata": {
        "colab": {
          "base_uri": "https://localhost:8080/",
          "height": 632
        },
        "id": "shm3O8A6PtBB",
        "outputId": "23c82881-9404-4258-b3c1-49af79995cdd"
      },
      "execution_count": null,
      "outputs": [
        {
          "output_type": "stream",
          "name": "stderr",
          "text": [
            "\r[*********************100%%**********************]  1 of 1 completed\n"
          ]
        },
        {
          "output_type": "stream",
          "name": "stdout",
          "text": [
            "1/1 [==============================] - 1s 1s/step\n",
            "1/1 [==============================] - 0s 25ms/step\n",
            "1/1 [==============================] - 0s 24ms/step\n",
            "1/1 [==============================] - 0s 25ms/step\n"
          ]
        },
        {
          "output_type": "display_data",
          "data": {
            "text/plain": [
              "<Figure size 1000x600 with 1 Axes>"
            ],
            "image/png": "[encoded data removed]"
          },
          "metadata": {}
        }
      ]
    },
    {
      "cell_type": "code",
      "source": [
        "import pandas as pd\n",
        "import mplfinance as mpf\n",
        "import matplotlib.dates as mpl_dates\n",
        "import matplotlib.pyplot as plt\n",
        "\n",
        "# Fetch the latest 60 days of AAPL stock data\n",
        "data = yf.download('AAPL', period='3mo', interval='1d') # Fetch 64 days to display last 60 days in the chart\n",
        "\n",
        "# Select 'Close' price and scale it\n",
        "closing_prices = data['Close'].values.reshape(-1, 1)\n",
        "scaler = MinMaxScaler(feature_range=(0, 1))\n",
        "scaled_data = scaler.fit_transform(closing_prices)\n",
        "\n",
        "# Predict the next 4 days iteratively\n",
        "predicted_prices = []\n",
        "current_batch = scaled_data[-60:].reshape(1, 60, 1)  # Most recent 60 days\n",
        "\n",
        "for i in range(4):  # Predicting 4 days\n",
        "    next_prediction = model.predict(current_batch)\n",
        "    next_prediction_reshaped = next_prediction.reshape(1, 1, 1)\n",
        "    current_batch = np.append(current_batch[:, 1:, :], next_prediction_reshaped, axis=1)\n",
        "    predicted_prices.append(scaler.inverse_transform(next_prediction)[0, 0])\n",
        "\n",
        "# Creating a list of dates for the predictions\n",
        "last_date = data.index[-1]\n",
        "next_day = last_date + pd.Timedelta(days=1)\n",
        "prediction_dates = pd.date_range(start=next_day, periods=4)\n",
        "\n",
        "# Adding predictions to the DataFrame\n",
        "predicted_data = pd.DataFrame(index=prediction_dates, data=predicted_prices, columns=['Close'])\n",
        "\n",
        "# Combining both actual and predicted data\n",
        "combined_data = pd.concat([data['Close'], predicted_data['Close']])\n",
        "combined_data = combined_data[-64:] # Last 60 days of actual data + 4 days of predictions\n",
        "\n",
        "# Plotting the actual data\n",
        "plt.figure(figsize=(10,6))\n",
        "plt.plot(data.index[-60:], data['Close'][-60:], linestyle='-', marker='o', color='blue', label='Actual Data')\n",
        "\n",
        "# Plotting the predicted data\n",
        "plt.plot(prediction_dates, predicted_prices, linestyle='-', marker='o', color='red', label='Predicted Data')\n",
        "\n",
        "plt.title(\"AAPL Stock Price: Last 60 Days and Next 4 Days Predicted\")\n",
        "plt.xlabel('Date')\n",
        "plt.ylabel('Price')\n",
        "plt.legend()\n",
        "plt.show()"
      ],
      "metadata": {
        "colab": {
          "base_uri": "https://localhost:8080/",
          "height": 675
        },
        "id": "ruQpA5RPPtEr",
        "outputId": "664c1106-3e82-4b1f-c69e-477beea5701c"
      },
      "execution_count": null,
      "outputs": [
        {
          "output_type": "stream",
          "name": "stderr",
          "text": [
            "\r[*********************100%%**********************]  1 of 1 completed"
          ]
        },
        {
          "output_type": "stream",
          "name": "stdout",
          "text": [
            "1/1 [==============================] - 0s 29ms/step\n",
            "1/1 [==============================] - 0s 27ms/step\n"
          ]
        },
        {
          "output_type": "stream",
          "name": "stderr",
          "text": [
            "\n"
          ]
        },
        {
          "output_type": "stream",
          "name": "stdout",
          "text": [
            "1/1 [==============================] - 0s 29ms/step\n",
            "1/1 [==============================] - 0s 31ms/step\n"
          ]
        },
        {
          "output_type": "display_data",
          "data": {
            "text/plain": [
              "<Figure size 1000x600 with 1 Axes>"
            ],
            "image/png": "[encoded data removed]"
          },
          "metadata": {}
        }
      ]
    },
    {
      "cell_type": "code",
      "source": [
        "import yfinance as yf\n",
        "import numpy as np\n",
        "import pandas as pd\n",
        "from sklearn.preprocessing import MinMaxScaler\n",
        "from datetime import datetime, timedelta\n",
        "\n",
        "\n",
        "def predict_stock_price(input_date):\n",
        "    # Check if the input date is a valid date format\n",
        "    try:\n",
        "        input_date = pd.to_datetime(input_date)\n",
        "    except ValueError:\n",
        "        print(\"Invalid Date Format. Please enter date in YYYY-MM-DD format.\")\n",
        "        return\n",
        "\n",
        "    # Fetch data from yfinance\n",
        "    end_date = input_date\n",
        "    start_date = input_date - timedelta(days=90)  # Fetch more days to ensure we have 60 trading days\n",
        "    data = yf.download('AAPL', start=start_date, end=end_date)\n",
        "\n",
        "    if len(data) < 60:\n",
        "        print(\"Not enough historical data to make a prediction. Try an earlier date.\")\n",
        "        return\n",
        "\n",
        "    # Prepare the data\n",
        "    closing_prices = data['Close'].values[-60:]  # Last 60 days\n",
        "    scaler = MinMaxScaler(feature_range=(0, 1))\n",
        "    scaled_data = scaler.fit_transform(closing_prices.reshape(-1, 1))\n",
        "\n",
        "    # Make predictions\n",
        "    predicted_prices = []\n",
        "    current_batch = scaled_data.reshape(1, 60, 1)\n",
        "\n",
        "    for i in range(4):  # Predicting 4 days\n",
        "        next_prediction = model.predict(current_batch)\n",
        "        next_prediction_reshaped = next_prediction.reshape(1, 1, 1)\n",
        "        current_batch = np.append(current_batch[:, 1:, :], next_prediction_reshaped, axis=1)\n",
        "        predicted_prices.append(scaler.inverse_transform(next_prediction)[0, 0])\n",
        "\n",
        "    # Output the predictions\n",
        "    for i, price in enumerate(predicted_prices, 1):\n",
        "        print(f\"Day {i} prediction: {price}\")\n",
        "\n",
        "# Example use\n",
        "user_input = input(\"Enter a date (YYYY-MM-DD) to predict AAPL stock for the next 4 days: \")\n",
        "predict_stock_price(user_input)"
      ],
      "metadata": {
        "colab": {
          "base_uri": "https://localhost:8080/"
        },
        "id": "a_dg5FsHPtI6",
        "outputId": "1d091bb5-f48e-4dcf-9b74-016f179bb547"
      },
      "execution_count": null,
      "outputs": [
        {
          "name": "stdout",
          "output_type": "stream",
          "text": [
            "Enter a date (YYYY-MM-DD) to predict AAPL stock for the next 4 days: 2024-05-24\n"
          ]
        },
        {
          "output_type": "stream",
          "name": "stderr",
          "text": [
            "\r[*********************100%%**********************]  1 of 1 completed"
          ]
        },
        {
          "output_type": "stream",
          "name": "stdout",
          "text": [
            "1/1 [==============================] - 0s 33ms/step\n",
            "1/1 [==============================] - 0s 33ms/step\n"
          ]
        },
        {
          "output_type": "stream",
          "name": "stderr",
          "text": [
            "\n"
          ]
        },
        {
          "output_type": "stream",
          "name": "stdout",
          "text": [
            "1/1 [==============================] - 0s 31ms/step\n",
            "1/1 [==============================] - 0s 30ms/step\n",
            "Day 1 prediction: 183.4113006591797\n",
            "Day 2 prediction: 181.80784606933594\n",
            "Day 3 prediction: 181.728271484375\n",
            "Day 4 prediction: 181.7044677734375\n"
          ]
        }
      ]
    }
  ]
}